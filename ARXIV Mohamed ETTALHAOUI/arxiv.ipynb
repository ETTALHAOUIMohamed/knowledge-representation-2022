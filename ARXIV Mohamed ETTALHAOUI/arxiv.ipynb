{
  "cells": [
    {
      "cell_type": "markdown",
      "source": [
        "Installation du pytorch géometrique"
      ],
      "metadata": {
        "id": "8Z_n3aPgmXQv"
      }
    },
    {
      "cell_type": "code",
      "execution_count": null,
      "metadata": {
        "colab": {
          "base_uri": "https://localhost:8080/"
        },
        "id": "xucPz3k0G9QY",
        "outputId": "674395ee-21ed-43d7-e5d0-b6f028205707"
      },
      "outputs": [
        {
          "output_type": "stream",
          "name": "stdout",
          "text": [
            "1.12.1+cu113\n",
            "\u001b[K     |████████████████████████████████| 7.9 MB 5.2 MB/s \n",
            "\u001b[K     |████████████████████████████████| 3.5 MB 5.2 MB/s \n",
            "\u001b[?25h  Building wheel for torch-geometric (setup.py) ... \u001b[?25l\u001b[?25hdone\n"
          ]
        }
      ],
      "source": [
        "import os\n",
        "import torch\n",
        "os.environ['TORCH'] = torch.__version__\n",
        "print(torch.__version__)\n",
        "\n",
        "!pip install -q torch-scatter -f https://data.pyg.org/whl/torch-${TORCH}.html\n",
        "!pip install -q torch-sparse -f https://data.pyg.org/whl/torch-${TORCH}.html\n",
        "!pip install -q git+https://github.com/pyg-team/pytorch_geometric.git"
      ]
    },
    {
      "cell_type": "markdown",
      "source": [
        "Intsall ogb"
      ],
      "metadata": {
        "id": "hD4fqi0LshQe"
      }
    },
    {
      "cell_type": "code",
      "execution_count": null,
      "metadata": {
        "id": "Lin84GiqL08v"
      },
      "outputs": [],
      "source": [
        "!pip install ogb"
      ]
    },
    {
      "cell_type": "markdown",
      "source": [
        "Data loaders"
      ],
      "metadata": {
        "id": "FQWwC3lqsomK"
      }
    },
    {
      "cell_type": "markdown",
      "source": [
        "Importation des libraries "
      ],
      "metadata": {
        "id": "FLUNvEDjsup9"
      }
    },
    {
      "cell_type": "code",
      "execution_count": null,
      "metadata": {
        "id": "vRhtrrNcZLil"
      },
      "outputs": [],
      "source": [
        "import torch\n",
        "import torch_geometric\n",
        "import torch.nn.functional as F\n",
        "import torch_geometric.transforms as T\n",
        "from torch_geometric.nn import GCNConv, SAGEConv, GATConv"
      ]
    },
    {
      "cell_type": "markdown",
      "source": [
        "Pytorch Geometric Loader"
      ],
      "metadata": {
        "id": "y76iqfOQCqMu"
      }
    },
    {
      "cell_type": "code",
      "execution_count": null,
      "metadata": {
        "id": "e0L7TwENbfSP",
        "colab": {
          "base_uri": "https://localhost:8080/"
        },
        "outputId": "d3fb6686-eba7-4df2-ae31-f9a35de8c23e"
      },
      "outputs": [
        {
          "output_type": "stream",
          "name": "stdout",
          "text": [
            "Downloading http://snap.stanford.edu/ogb/data/nodeproppred/arxiv.zip\n"
          ]
        },
        {
          "output_type": "stream",
          "name": "stderr",
          "text": [
            "Downloaded 0.08 GB: 100%|██████████| 81/81 [00:02<00:00, 32.85it/s]\n"
          ]
        },
        {
          "output_type": "stream",
          "name": "stdout",
          "text": [
            "Extracting dataset/arxiv.zip\n"
          ]
        },
        {
          "output_type": "stream",
          "name": "stderr",
          "text": [
            "Processing...\n"
          ]
        },
        {
          "output_type": "stream",
          "name": "stdout",
          "text": [
            "Loading necessary files...\n",
            "This might take a while.\n",
            "Processing graphs...\n"
          ]
        },
        {
          "output_type": "stream",
          "name": "stderr",
          "text": [
            "100%|██████████| 1/1 [00:00<00:00, 8208.03it/s]\n"
          ]
        },
        {
          "output_type": "stream",
          "name": "stdout",
          "text": [
            "Converting graphs into PyG objects...\n"
          ]
        },
        {
          "output_type": "stream",
          "name": "stderr",
          "text": [
            "100%|██████████| 1/1 [00:00<00:00, 2146.52it/s]"
          ]
        },
        {
          "output_type": "stream",
          "name": "stdout",
          "text": [
            "Saving...\n"
          ]
        },
        {
          "output_type": "stream",
          "name": "stderr",
          "text": [
            "\n",
            "Done!\n"
          ]
        }
      ],
      "source": [
        "from ogb.nodeproppred import PygNodePropPredDataset, Evaluator\n",
        "\n",
        "dataset = PygNodePropPredDataset(name = 'ogbn-arxiv',transform=T.ToSparseTensor()) \n",
        "\n",
        "split_idx = dataset.get_idx_split()\n",
        "train_idx, valid_idx, test_idx = split_idx[\"train\"], split_idx[\"valid\"], split_idx[\"test\"]"
      ]
    },
    {
      "cell_type": "code",
      "execution_count": null,
      "metadata": {
        "id": "MuZehjSlFibb",
        "colab": {
          "base_uri": "https://localhost:8080/"
        },
        "outputId": "d94d1169-7614-4074-892e-0c63836494d2"
      },
      "outputs": [
        {
          "output_type": "stream",
          "name": "stdout",
          "text": [
            "Number of graphs: 1\n",
            "Number of features: 128\n",
            "Number of classes: 40\n",
            "====================================================================================================\n",
            "Data(num_nodes=169343, x=[169343, 128], node_year=[169343, 1], y=[169343, 1], adj_t=[169343, 169343, nnz=1166243])\n",
            "Number of nodes: 169343\n",
            "Number of edges: 1166243\n",
            "Number of training nodes: 90941\n",
            "Training node label rate: 0.5370224928104498\n",
            "Is undirected: False\n"
          ]
        }
      ],
      "source": [
        "# dataset exploration\n",
        "print(f'Number of graphs: {len(dataset)}')\n",
        "print(f'Number of features: {dataset.num_features}')\n",
        "print(f'Number of classes: {dataset.num_classes}')\n",
        "print(100*'=')\n",
        "\n",
        "data = dataset[0]  \n",
        "\n",
        "print(data)\n",
        "print(f'Number of nodes: {data.num_nodes}')\n",
        "print(f'Number of edges: {data.num_edges}')\n",
        "print(f'Number of training nodes: {len(train_idx)}')\n",
        "print(f'Training node label rate: {len(train_idx) / (len(train_idx)+len(valid_idx)+len(test_idx))}')\n",
        "print(f'Is undirected: {data.is_undirected()}')"
      ]
    },
    {
      "cell_type": "code",
      "execution_count": null,
      "metadata": {
        "id": "GKEUQSV4y3rk"
      },
      "outputs": [],
      "source": [
        "# definir le device\n",
        "device = 'cuda' if torch.cuda.is_available() else 'cpu'\n",
        "device = torch.device(device)"
      ]
    },
    {
      "cell_type": "code",
      "execution_count": null,
      "metadata": {
        "colab": {
          "base_uri": "https://localhost:8080/"
        },
        "id": "WNUPs7r5ZLy1",
        "outputId": "71c8cc1c-fb15-44ce-806a-11d18697e2e1"
      },
      "outputs": [
        {
          "output_type": "execute_result",
          "data": {
            "text/plain": [
              "Data(num_nodes=169343, x=[169343, 128], node_year=[169343, 1], y=[169343, 1], adj_t=[169343, 169343, nnz=2315598])"
            ]
          },
          "metadata": {},
          "execution_count": 8
        }
      ],
      "source": [
        "data = dataset[0]\n",
        "data.adj_t = data.adj_t.to_symmetric()\n",
        "data = data.to(device)\n",
        "data.adj_t = data.adj_t.to(device)\n",
        "data.x = data.x.to(device)\n",
        "data"
      ]
    },
    {
      "cell_type": "markdown",
      "source": [
        "Model1"
      ],
      "metadata": {
        "id": "P5cAu-5WDJna"
      }
    },
    {
      "cell_type": "code",
      "execution_count": null,
      "metadata": {
        "colab": {
          "base_uri": "https://localhost:8080/"
        },
        "id": "p3uhJZwWM-X8",
        "outputId": "a1943a18-4671-47a7-fdda-1f4748a14ead"
      },
      "outputs": [
        {
          "output_type": "execute_result",
          "data": {
            "text/plain": [
              "GNN(\n",
              "  (conv1): GCNConv(128, 16)\n",
              "  (conv2): GCNConv(16, 40)\n",
              ")"
            ]
          },
          "metadata": {},
          "execution_count": 11
        }
      ],
      "source": [
        "import torch\n",
        "import torch.nn.functional as F\n",
        "\n",
        "from torch_geometric.nn import GCNConv\n",
        "import torch_geometric.transforms as T\n",
        "\n",
        "\n",
        "class GNN(torch.nn.Module):\n",
        "  def __init__(self):\n",
        "    super().__init__()\n",
        "    self.conv1 = GCNConv(dataset.num_features, 16, cached=True)\n",
        "    self.conv2 = GCNConv(16, dataset.num_classes, cached=True)\n",
        "\n",
        "  def forward(self, x, adj_t):\n",
        "    x = self.conv1(x, adj_t)\n",
        "    x = F.relu(x)\n",
        "    x = self.conv2(x, adj_t)\n",
        "    return F.log_softmax(x, dim=1)\n",
        "\n",
        "model_1 = GNN()\n",
        "optimizer = torch.optim.Adam(model_1.parameters(), lr=0.01)\n",
        "\n",
        "def train(data):\n",
        "    model_1.train()\n",
        "    optimizer.zero_grad()\n",
        "    out = model_1(data.x, data.adj_t)[train_idx]\n",
        "    loss = F.nll_loss(out, data.y.squeeze()[train_idx])\n",
        "    loss.backward()\n",
        "    optimizer.step()\n",
        "    return float(loss)\n",
        "\n",
        "# for epoch in range(1, 201):\n",
        "#     loss = train(data)\n",
        "\n",
        "model_1"
      ]
    },
    {
      "cell_type": "markdown",
      "source": [
        "Entrainement du modele"
      ],
      "metadata": {
        "id": "112xVJkWFzjd"
      }
    },
    {
      "cell_type": "code",
      "source": [
        "model_1 = model_1.to(device)\n",
        "losses = []\n",
        "for epoch in range(0, 601):\n",
        "    loss = train(data)\n",
        "    losses.append(loss)\n",
        "    if epoch % 100 == 0:\n",
        "      print(f'Epoch: {epoch:03d}, Loss: {loss:.4f}')"
      ],
      "metadata": {
        "colab": {
          "base_uri": "https://localhost:8080/"
        },
        "id": "cinhdCjqDh6d",
        "outputId": "65bc5b07-dbaa-4dc3-ee64-a1cb753bdb08"
      },
      "execution_count": null,
      "outputs": [
        {
          "output_type": "stream",
          "name": "stdout",
          "text": [
            "Epoch: 000, Loss: 3.7392\n",
            "Epoch: 100, Loss: 1.6109\n",
            "Epoch: 200, Loss: 1.2791\n",
            "Epoch: 300, Loss: 1.2018\n",
            "Epoch: 400, Loss: 1.1713\n",
            "Epoch: 500, Loss: 1.1549\n",
            "Epoch: 600, Loss: 1.1446\n"
          ]
        }
      ]
    },
    {
      "cell_type": "markdown",
      "source": [
        "Visualisation de l'erreur"
      ],
      "metadata": {
        "id": "WLY2EupfGMEu"
      }
    },
    {
      "cell_type": "code",
      "source": [
        "from matplotlib.pyplot import title\n",
        "import seaborn as sns\n",
        "losses_float = [loss for loss in losses] \n",
        "loss_indices = [i for i,l in enumerate(losses_float)] \n",
        "plt = sns.lineplot(x = loss_indices, y = losses_float)\n",
        "plt"
      ],
      "metadata": {
        "colab": {
          "base_uri": "https://localhost:8080/",
          "height": 282
        },
        "id": "AN74qWlLDht5",
        "outputId": "0e6f646a-a177-4ab1-936b-1da2c5c86d21"
      },
      "execution_count": null,
      "outputs": [
        {
          "output_type": "execute_result",
          "data": {
            "text/plain": [
              "<matplotlib.axes._subplots.AxesSubplot at 0x7f5880eea650>"
            ]
          },
          "metadata": {},
          "execution_count": 15
        },
        {
          "output_type": "display_data",
          "data": {
            "text/plain": [
              "<Figure size 432x288 with 1 Axes>"
            ],
            "image/png": "[encoded data removed]"
          },
          "metadata": {
            "needs_background": "light"
          }
        }
      ]
    },
    {
      "cell_type": "code",
      "source": [],
      "metadata": {
        "id": "DCVm-ERTEI3A"
      },
      "execution_count": null,
      "outputs": []
    },
    {
      "cell_type": "code",
      "source": [
        "def test(model, data, split_idx, evaluator):\n",
        "    model.eval()\n",
        "\n",
        "    out = model(data.x, data.adj_t)\n",
        "    y_pred = out.argmax(dim=-1, keepdim=True)\n",
        "    \n",
        "    # update the evaluator\n",
        "    train_acc = evaluator.eval({'y_true': data.y[split_idx['train']],\n",
        "                                'y_pred': y_pred[split_idx['train']],\n",
        "                               })['acc']\n",
        "    valid_acc = evaluator.eval({'y_true': data.y[split_idx['valid']],\n",
        "                                'y_pred': y_pred[split_idx['valid']],\n",
        "                               })['acc']\n",
        "    test_acc = evaluator.eval({'y_true': data.y[split_idx['test']],\n",
        "                               'y_pred': y_pred[split_idx['test']],\n",
        "                              })['acc']\n",
        "\n",
        "    return train_acc, valid_acc, test_acc"
      ],
      "metadata": {
        "id": "0vvsnnt-G58s"
      },
      "execution_count": null,
      "outputs": []
    },
    {
      "cell_type": "code",
      "source": [
        "evaluator = Evaluator(name='ogbn-arxiv')\n",
        "evaluator"
      ],
      "metadata": {
        "colab": {
          "base_uri": "https://localhost:8080/"
        },
        "id": "2eIMMG7CJLDJ",
        "outputId": "068846d0-eb9c-4712-87b5-c40a0da88168"
      },
      "execution_count": null,
      "outputs": [
        {
          "output_type": "execute_result",
          "data": {
            "text/plain": [
              "<ogb.nodeproppred.evaluate.Evaluator at 0x7f5880e67750>"
            ]
          },
          "metadata": {},
          "execution_count": 19
        }
      ]
    },
    {
      "cell_type": "code",
      "source": [
        "optimizer = torch.optim.Adam(model_1.parameters(), lr=0.001)\n",
        "# for epoch in range(1, 1 + epoch):\n",
        "    # loss = train(model, data, train_idx, optimizer)\n",
        "result = test(model_1, data, split_idx, evaluator)\n",
        "\n",
        "    # if epoch % epoch == 0:\n",
        "train_acc, valid_acc, test_acc = result\n",
        "print(f'Epoch: {epoch:02d}, '\n",
        "      f'Loss: {loss:.4f}, '\n",
        "      f'Train: {100 * train_acc:.2f}%, '\n",
        "      f'Valid: {100 * valid_acc:.2f}% '\n",
        "      f'Test: {100 * test_acc:.2f}%')"
      ],
      "metadata": {
        "colab": {
          "base_uri": "https://localhost:8080/"
        },
        "id": "EBUYY0_uFrAX",
        "outputId": "410ac8a5-35c7-4273-97fb-2760af5bc8e3"
      },
      "execution_count": null,
      "outputs": [
        {
          "output_type": "stream",
          "name": "stdout",
          "text": [
            "Epoch: 600, Loss: 1.1446, Train: 66.45%, Valid: 67.06% Test: 66.18%\n"
          ]
        }
      ]
    },
    {
      "cell_type": "code",
      "source": [],
      "metadata": {
        "id": "nBTJw4gfEI4v"
      },
      "execution_count": null,
      "outputs": []
    },
    {
      "cell_type": "markdown",
      "source": [
        "Model_2"
      ],
      "metadata": {
        "id": "zW-tj81gJgxU"
      }
    },
    {
      "cell_type": "code",
      "source": [
        "import torch\n",
        "import torch.nn.functional as F\n",
        "\n",
        "from torch_geometric.nn import GCNConv,SAGEConv\n",
        "import torch_geometric.transforms as T\n",
        "\n",
        "\n",
        "class GNN(torch.nn.Module):\n",
        "  def __init__(self):\n",
        "    super().__init__()\n",
        "    self.conv1 = GCNConv(dataset.num_features, 256, cached=True)\n",
        "    self.bns = torch.nn.BatchNorm1d(256)\n",
        "    self.conv2 = GCNConv(256, 128, cached=True)\n",
        "    self.conv3 = SAGEConv(128, dataset.num_classes, cached=True)\n",
        "\n",
        "  def forward(self, x, adj_t):\n",
        "    x = self.conv1(x, adj_t)\n",
        "    x = self.bns(x)\n",
        "    x = self.conv2(x, adj_t)\n",
        "    x = F.relu(x)\n",
        "    x = self.conv3(x, adj_t)\n",
        "    x = F.dropout(x, p=0.5, training=self.training)\n",
        "    return F.log_softmax(x, dim=1)\n",
        "\n",
        "model_2 = GNN()\n",
        "optimizer = torch.optim.Adam(model_2.parameters(), lr=0.01)\n",
        "\n",
        "def train(data):\n",
        "    model_2.train()\n",
        "    optimizer.zero_grad()\n",
        "    out = model_2(data.x, data.adj_t)[train_idx]\n",
        "    loss = F.nll_loss(out, data.y.squeeze()[train_idx])\n",
        "    loss.backward()\n",
        "    optimizer.step()\n",
        "    return float(loss)\n",
        "\n",
        "# for epoch in range(1, 201):\n",
        "#     loss = train(data)\n",
        "\n",
        "model_2"
      ],
      "metadata": {
        "colab": {
          "base_uri": "https://localhost:8080/"
        },
        "id": "SIbt54SUlbmg",
        "outputId": "ce357fd2-449e-47ed-fbf3-388ee07af29b"
      },
      "execution_count": null,
      "outputs": [
        {
          "output_type": "execute_result",
          "data": {
            "text/plain": [
              "GNN(\n",
              "  (conv1): GCNConv(128, 256)\n",
              "  (bns): BatchNorm1d(256, eps=1e-05, momentum=0.1, affine=True, track_running_stats=True)\n",
              "  (conv2): GCNConv(256, 128)\n",
              "  (conv3): SAGEConv(128, 40, aggr=mean)\n",
              ")"
            ]
          },
          "metadata": {},
          "execution_count": 21
        }
      ]
    },
    {
      "cell_type": "code",
      "source": [
        "#avec Sage2\n",
        "model_2 = model_2.to(device)\n",
        "losses = []\n",
        "for epoch in range(0, 601):\n",
        "    loss = train(data)\n",
        "    losses.append(loss)\n",
        "    if epoch % 100 == 0:\n",
        "      print(f'Epoch: {epoch:03d}, Loss: {loss:.4f}')"
      ],
      "metadata": {
        "colab": {
          "base_uri": "https://localhost:8080/"
        },
        "id": "mShbirUarYEa",
        "outputId": "2016d7a8-cfec-4a86-9dff-e62b7a31631d"
      },
      "execution_count": null,
      "outputs": [
        {
          "output_type": "stream",
          "name": "stdout",
          "text": [
            "Epoch: 000, Loss: 4.0416\n",
            "Epoch: 100, Loss: 2.1540\n",
            "Epoch: 200, Loss: 2.0761\n",
            "Epoch: 300, Loss: 2.0444\n",
            "Epoch: 400, Loss: 2.0248\n",
            "Epoch: 500, Loss: 1.9994\n",
            "Epoch: 600, Loss: 2.0044\n"
          ]
        }
      ]
    },
    {
      "cell_type": "code",
      "source": [
        "evaluator = Evaluator(name='ogbn-arxiv')\n",
        "\n",
        "optimizer = torch.optim.Adam(model_2.parameters(), lr=0.001)\n",
        "# for epoch in range(1, 1 + epoch):\n",
        "    # loss = train(model, data, train_idx, optimizer)\n",
        "result = test(model_2, data, split_idx, evaluator)\n",
        "\n",
        "    # if epoch % epoch == 0:\n",
        "train_acc, valid_acc, test_acc = result\n",
        "print(f'Epoch: {epoch:02d}, '\n",
        "      f'Loss: {loss:.4f}, '\n",
        "      f'Train: {100 * train_acc:.2f}%, '\n",
        "      f'Valid: {100 * valid_acc:.2f}% '\n",
        "      f'Test: {100 * test_acc:.2f}%')"
      ],
      "metadata": {
        "colab": {
          "base_uri": "https://localhost:8080/"
        },
        "id": "tmskcEQ0rhuR",
        "outputId": "31859b32-ba24-44e3-97b6-494a329c6616"
      },
      "execution_count": null,
      "outputs": [
        {
          "output_type": "stream",
          "name": "stdout",
          "text": [
            "Epoch: 600, Loss: 2.1405, Train: 77.68%, Valid: 70.57% Test: 70.00%\n"
          ]
        }
      ]
    },
    {
      "cell_type": "code",
      "source": [],
      "metadata": {
        "id": "2lAMJeRrOgoQ"
      },
      "execution_count": null,
      "outputs": []
    },
    {
      "cell_type": "markdown",
      "source": [
        "Model_3"
      ],
      "metadata": {
        "id": "zhw-Mm6oOqrK"
      }
    },
    {
      "cell_type": "code",
      "source": [
        "import torch\n",
        "import torch.nn.functional as F\n",
        "\n",
        "from torch_geometric.nn import GCNConv,SAGEConv\n",
        "import torch_geometric.transforms as T\n",
        "\n",
        "\n",
        "class GNN(torch.nn.Module):\n",
        "  def __init__(self):\n",
        "    super().__init__()\n",
        "    self.conv1 = SAGEConv(dataset.num_features, 256, cached=True)\n",
        "    self.bns1 = torch.nn.BatchNorm1d(256)\n",
        "    self.conv2 = SAGEConv(256, 128, cached=True)\n",
        "    self.bns2 = torch.nn.BatchNorm1d(128)\n",
        "    self.conv3 = SAGEConv(128, dataset.num_classes, cached=True)\n",
        "\n",
        "  def forward(self, x, adj_t):\n",
        "    x = self.conv1(x, adj_t)\n",
        "    x = self.bns1(x)\n",
        "    x = self.conv2(x, adj_t)\n",
        "    x = self.bns2(x)\n",
        "    x = F.relu(x)\n",
        "    x = self.conv3(x, adj_t)\n",
        "    x = F.dropout(x, p=0.5, training=self.training)\n",
        "    return F.log_softmax(x, dim=1)\n",
        "\n",
        "model_3 = GNN()\n",
        "optimizer = torch.optim.Adam(model_3.parameters(), lr=0.01)\n",
        "\n",
        "def train(data):\n",
        "    model_3.train()\n",
        "    optimizer.zero_grad()\n",
        "    out = model_3(data.x, data.adj_t)[train_idx]\n",
        "    loss = F.nll_loss(out, data.y.squeeze()[train_idx])\n",
        "    loss.backward()\n",
        "    optimizer.step()\n",
        "    return float(loss)\n",
        "\n",
        "# for epoch in range(1, 201):\n",
        "#     loss = train(data)\n",
        "\n",
        "model_3"
      ],
      "metadata": {
        "colab": {
          "base_uri": "https://localhost:8080/"
        },
        "id": "4MAxfPKNOgb5",
        "outputId": "2624a326-6735-4ef4-8d50-9e52b81d5d34"
      },
      "execution_count": null,
      "outputs": [
        {
          "output_type": "execute_result",
          "data": {
            "text/plain": [
              "GNN(\n",
              "  (conv1): SAGEConv(128, 256, aggr=mean)\n",
              "  (bns1): BatchNorm1d(256, eps=1e-05, momentum=0.1, affine=True, track_running_stats=True)\n",
              "  (conv2): SAGEConv(256, 128, aggr=mean)\n",
              "  (bns2): BatchNorm1d(128, eps=1e-05, momentum=0.1, affine=True, track_running_stats=True)\n",
              "  (conv3): SAGEConv(128, 40, aggr=mean)\n",
              ")"
            ]
          },
          "metadata": {},
          "execution_count": 37
        }
      ]
    },
    {
      "cell_type": "code",
      "source": [
        "model_3 = model_3.to(device)\n",
        "losses = []\n",
        "for epoch in range(0, 601):\n",
        "    loss = train(data)\n",
        "    losses.append(loss)\n",
        "    if epoch % 100 == 0:\n",
        "      print(f'Epoch: {epoch:03d}, Loss: {loss:.4f}')"
      ],
      "metadata": {
        "colab": {
          "base_uri": "https://localhost:8080/"
        },
        "id": "_HptFT9sOgQT",
        "outputId": "8c4aba5e-90f5-4f33-90f5-d323c0686e56"
      },
      "execution_count": null,
      "outputs": [
        {
          "output_type": "stream",
          "name": "stdout",
          "text": [
            "Epoch: 000, Loss: 4.0011\n",
            "Epoch: 100, Loss: 2.1547\n",
            "Epoch: 200, Loss: 2.0652\n",
            "Epoch: 300, Loss: 1.9878\n",
            "Epoch: 400, Loss: 1.9190\n",
            "Epoch: 500, Loss: 1.8881\n",
            "Epoch: 600, Loss: 1.8539\n"
          ]
        }
      ]
    },
    {
      "cell_type": "code",
      "source": [
        "optimizer = torch.optim.Adam(model_3.parameters(), lr=0.001)\n",
        "# for epoch in range(1, 1 + epoch):\n",
        "    # loss = train(model, data, train_idx, optimizer)\n",
        "result = test(model_3, data, split_idx, evaluator)\n",
        "\n",
        "    # if epoch % epoch == 0:\n",
        "train_acc, valid_acc, test_acc = result\n",
        "print(f'Epoch: {epoch:02d}, '\n",
        "      f'Loss: {loss:.4f}, '\n",
        "      f'Train: {100 * train_acc:.2f}%, '\n",
        "      f'Valid: {100 * valid_acc:.2f}% '\n",
        "      f'Test: {100 * test_acc:.2f}%')"
      ],
      "metadata": {
        "colab": {
          "base_uri": "https://localhost:8080/"
        },
        "id": "_YXmNoNPOgCA",
        "outputId": "0742efbb-075a-4cce-a53a-920ac21855df"
      },
      "execution_count": null,
      "outputs": [
        {
          "output_type": "stream",
          "name": "stdout",
          "text": [
            "Epoch: 600, Loss: 1.8539, Train: 85.66%, Valid: 67.60% Test: 67.07%\n"
          ]
        }
      ]
    },
    {
      "cell_type": "markdown",
      "source": [
        "Model_4"
      ],
      "metadata": {
        "id": "_cLtkxi7QM4A"
      }
    },
    {
      "cell_type": "code",
      "source": [
        "import torch\n",
        "import torch.nn.functional as F\n",
        "\n",
        "from torch_geometric.nn import GCNConv,SAGEConv, GATConv\n",
        "import torch_geometric.transforms as T\n",
        "\n",
        "\n",
        "class GNN(torch.nn.Module):\n",
        "  def __init__(self):\n",
        "    super().__init__()\n",
        "    self.conv1 = GCNConv(dataset.num_features, 256, cached=True)\n",
        "    self.bns1 = torch.nn.BatchNorm1d(256)\n",
        "    self.conv2 = GATConv(256, 128, cached=True)\n",
        "    self.bns2 = torch.nn.BatchNorm1d(128)\n",
        "    self.conv3 = GCNConv(128, dataset.num_classes, cached=True)\n",
        "\n",
        "  def forward(self, x, adj_t):\n",
        "    x = self.conv1(x, adj_t)\n",
        "    x = self.bns1(x)\n",
        "    x = self.conv2(x, adj_t)\n",
        "    # x = self.bns2(x)\n",
        "    x = F.relu(x)\n",
        "    x = self.conv3(x, adj_t)\n",
        "    x = F.dropout(x, p=0.5, training=self.training)\n",
        "    return F.log_softmax(x, dim=1)\n",
        "\n",
        "model_4 = GNN()\n",
        "optimizer = torch.optim.Adam(model_4.parameters(), lr=0.01)\n",
        "\n",
        "def train(data):\n",
        "    model_4.train()\n",
        "    optimizer.zero_grad()\n",
        "    out = model_4(data.x, data.adj_t)[train_idx]\n",
        "    loss = F.nll_loss(out, data.y.squeeze()[train_idx])\n",
        "    loss.backward()\n",
        "    optimizer.step()\n",
        "    return float(loss)\n",
        "\n",
        "# for epoch in range(1, 201):\n",
        "#     loss = train(data)\n",
        "\n",
        "model_4"
      ],
      "metadata": {
        "colab": {
          "base_uri": "https://localhost:8080/"
        },
        "id": "TS5-isi9Ofkw",
        "outputId": "62cb1e57-dea0-463a-ee18-8892fb1cfcba"
      },
      "execution_count": null,
      "outputs": [
        {
          "output_type": "execute_result",
          "data": {
            "text/plain": [
              "GNN(\n",
              "  (conv1): GCNConv(128, 256)\n",
              "  (bns1): BatchNorm1d(256, eps=1e-05, momentum=0.1, affine=True, track_running_stats=True)\n",
              "  (conv2): GATConv(256, 128, heads=1)\n",
              "  (bns2): BatchNorm1d(128, eps=1e-05, momentum=0.1, affine=True, track_running_stats=True)\n",
              "  (conv3): GCNConv(128, 40)\n",
              ")"
            ]
          },
          "metadata": {},
          "execution_count": 40
        }
      ]
    },
    {
      "cell_type": "code",
      "source": [
        "model_4 = model_4.to(device)\n",
        "losses = []\n",
        "for epoch in range(0, 601):\n",
        "    loss = train(data)\n",
        "    losses.append(loss)\n",
        "    if epoch % 100 == 0:\n",
        "      print(f'Epoch: {epoch:03d}, Loss: {loss:.4f}')"
      ],
      "metadata": {
        "colab": {
          "base_uri": "https://localhost:8080/"
        },
        "id": "cbIKMKIUOeVx",
        "outputId": "d4665327-4fb5-4b7d-d850-f303bb3c4102"
      },
      "execution_count": null,
      "outputs": [
        {
          "output_type": "stream",
          "name": "stdout",
          "text": [
            "Epoch: 000, Loss: 16.6485\n",
            "Epoch: 100, Loss: 2.3334\n",
            "Epoch: 200, Loss: 2.2442\n",
            "Epoch: 300, Loss: 2.2643\n",
            "Epoch: 400, Loss: 2.1756\n",
            "Epoch: 500, Loss: 2.1523\n",
            "Epoch: 600, Loss: 2.1405\n"
          ]
        }
      ]
    },
    {
      "cell_type": "code",
      "source": [
        "from matplotlib.pyplot import title\n",
        "import seaborn as sns\n",
        "losses_float = [loss for loss in losses] \n",
        "loss_indices = [i for i,l in enumerate(losses_float)] \n",
        "plt = sns.lineplot(x = loss_indices, y = losses_float)\n",
        "plt"
      ],
      "metadata": {
        "colab": {
          "base_uri": "https://localhost:8080/",
          "height": 282
        },
        "id": "kK5YAneeS2tK",
        "outputId": "c7f8e9b7-b477-4ad0-fc42-e4e20e726d28"
      },
      "execution_count": null,
      "outputs": [
        {
          "output_type": "execute_result",
          "data": {
            "text/plain": [
              "<matplotlib.axes._subplots.AxesSubplot at 0x7f5880ca43d0>"
            ]
          },
          "metadata": {},
          "execution_count": 46
        },
        {
          "output_type": "display_data",
          "data": {
            "text/plain": [
              "<Figure size 432x288 with 1 Axes>"
            ],
            "image/png": "[encoded data removed]"
          },
          "metadata": {
            "needs_background": "light"
          }
        }
      ]
    },
    {
      "cell_type": "code",
      "source": [
        "optimizer = torch.optim.Adam(model_4.parameters(), lr=0.001)\n",
        "# for epoch in range(1, 1 + epoch):\n",
        "    # loss = train(model, data, train_idx, optimizer)\n",
        "result = test(model_4, data, split_idx, evaluator)\n",
        "\n",
        "    # if epoch % epoch == 0:\n",
        "train_acc, valid_acc, test_acc = result\n",
        "print(f'Epoch: {epoch:02d}, '\n",
        "      f'Loss: {loss:.4f}, '\n",
        "      f'Train: {100 * train_acc:.2f}%, '\n",
        "      f'Valid: {100 * valid_acc:.2f}% '\n",
        "      f'Test: {100 * test_acc:.2f}%')"
      ],
      "metadata": {
        "colab": {
          "base_uri": "https://localhost:8080/"
        },
        "id": "zZg5F-LSSbfE",
        "outputId": "de84e3c6-bd92-4bb9-ee17-373c6ac6b88c"
      },
      "execution_count": null,
      "outputs": [
        {
          "output_type": "stream",
          "name": "stdout",
          "text": [
            "Epoch: 600, Loss: 2.1405, Train: 73.61%, Valid: 71.26% Test: 70.25%\n"
          ]
        }
      ]
    },
    {
      "cell_type": "markdown",
      "source": [
        "Model_5"
      ],
      "metadata": {
        "id": "MVvLUsxuUPTC"
      }
    },
    {
      "cell_type": "code",
      "execution_count": null,
      "metadata": {
        "id": "O37MhdkAizl8"
      },
      "outputs": [],
      "source": []
    },
    {
      "cell_type": "code",
      "execution_count": null,
      "metadata": {
        "id": "SHHthTsUizyX",
        "colab": {
          "base_uri": "https://localhost:8080/"
        },
        "outputId": "0b504b24-0d43-40c9-d015-79bbb9409b2b"
      },
      "outputs": [
        {
          "output_type": "execute_result",
          "data": {
            "text/plain": [
              "GNN(\n",
              "  (conv1): GATConv(128, 256, heads=1)\n",
              "  (bns1): BatchNorm1d(256, eps=1e-05, momentum=0.1, affine=True, track_running_stats=True)\n",
              "  (conv2): GATConv(256, 128, heads=1)\n",
              "  (bns2): BatchNorm1d(128, eps=1e-05, momentum=0.1, affine=True, track_running_stats=True)\n",
              "  (conv3): GATConv(128, 40, heads=1)\n",
              ")"
            ]
          },
          "metadata": {},
          "execution_count": 48
        }
      ],
      "source": [
        "import torch\n",
        "import torch.nn.functional as F\n",
        "\n",
        "from torch_geometric.nn import GCNConv,SAGEConv, GATConv\n",
        "import torch_geometric.transforms as T\n",
        "\n",
        "\n",
        "class GNN(torch.nn.Module):\n",
        "  def __init__(self):\n",
        "    super().__init__()\n",
        "    self.conv1 = GATConv(dataset.num_features, 256, cached=True)\n",
        "    self.bns1 = torch.nn.BatchNorm1d(256)\n",
        "    self.conv2 = GATConv(256, 128, cached=True)\n",
        "    self.bns2 = torch.nn.BatchNorm1d(128)\n",
        "    self.conv3 = GATConv(128, dataset.num_classes, cached=True)\n",
        "\n",
        "  def forward(self, x, adj_t):\n",
        "    x = self.conv1(x, adj_t)\n",
        "    x = self.bns1(x)\n",
        "    x = self.conv2(x, adj_t)\n",
        "    # x = self.bns2(x)\n",
        "    x = F.relu(x)\n",
        "    x = self.conv3(x, adj_t)\n",
        "    x = F.dropout(x, p=0.5, training=self.training)\n",
        "    return F.log_softmax(x, dim=1)\n",
        "\n",
        "model_5 = GNN()\n",
        "optimizer = torch.optim.Adam(model_5.parameters(), lr=0.01)\n",
        "\n",
        "def train(data):\n",
        "    model_5.train()\n",
        "    optimizer.zero_grad()\n",
        "    out = model_5(data.x, data.adj_t)[train_idx]\n",
        "    loss = F.nll_loss(out, data.y.squeeze()[train_idx])\n",
        "    loss.backward()\n",
        "    optimizer.step()\n",
        "    return float(loss)\n",
        "\n",
        "# for epoch in range(1, 201):\n",
        "#     loss = train(data)\n",
        "\n",
        "model_5"
      ]
    },
    {
      "cell_type": "code",
      "execution_count": null,
      "metadata": {
        "id": "Ql0jR9Wkiz11",
        "colab": {
          "base_uri": "https://localhost:8080/"
        },
        "outputId": "14444fa6-6e14-436e-81a7-72f296488408"
      },
      "outputs": [
        {
          "output_type": "stream",
          "name": "stdout",
          "text": [
            "Epoch: 000, Loss: 4.4534\n",
            "Epoch: 100, Loss: 2.1554\n",
            "Epoch: 200, Loss: 2.0953\n",
            "Epoch: 300, Loss: 2.0642\n",
            "Epoch: 400, Loss: 2.0377\n",
            "Epoch: 500, Loss: 2.0331\n",
            "Epoch: 600, Loss: 2.0142\n"
          ]
        }
      ],
      "source": [
        "model_5 = model_5.to(device)\n",
        "losses = []\n",
        "for epoch in range(0, 601):\n",
        "    loss = train(data)\n",
        "    losses.append(loss)\n",
        "    if epoch % 100 == 0:\n",
        "      print(f'Epoch: {epoch:03d}, Loss: {loss:.4f}')"
      ]
    },
    {
      "cell_type": "code",
      "source": [
        "from matplotlib.pyplot import title\n",
        "import seaborn as sns\n",
        "losses_float = [loss for loss in losses] \n",
        "loss_indices = [i for i,l in enumerate(losses_float)] \n",
        "plt = sns.lineplot(x = loss_indices, y = losses_float)\n",
        "plt"
      ],
      "metadata": {
        "colab": {
          "base_uri": "https://localhost:8080/",
          "height": 282
        },
        "id": "cSK3jj51Uksl",
        "outputId": "141cb5d3-e9db-4731-f26d-51714553e41b"
      },
      "execution_count": null,
      "outputs": [
        {
          "output_type": "execute_result",
          "data": {
            "text/plain": [
              "<matplotlib.axes._subplots.AxesSubplot at 0x7f5880caa690>"
            ]
          },
          "metadata": {},
          "execution_count": 50
        },
        {
          "output_type": "display_data",
          "data": {
            "text/plain": [
              "<Figure size 432x288 with 1 Axes>"
            ],
            "image/png": "[encoded data removed]"
          },
          "metadata": {
            "needs_background": "light"
          }
        }
      ]
    },
    {
      "cell_type": "code",
      "source": [
        "optimizer = torch.optim.Adam(model_5.parameters(), lr=0.001)\n",
        "# for epoch in range(1, 1 + epoch):\n",
        "    # loss = train(model, data, train_idx, optimizer)\n",
        "result = test(model_5, data, split_idx, evaluator)\n",
        "\n",
        "    # if epoch % epoch == 0:\n",
        "train_acc, valid_acc, test_acc = result\n",
        "print(f'Epoch: {epoch:02d}, '\n",
        "      f'Loss: {loss:.4f}, '\n",
        "      f'Train: {100 * train_acc:.2f}%, '\n",
        "      f'Valid: {100 * valid_acc:.2f}% '\n",
        "      f'Test: {100 * test_acc:.2f}%')"
      ],
      "metadata": {
        "colab": {
          "base_uri": "https://localhost:8080/"
        },
        "id": "gEoo9AKKUkpQ",
        "outputId": "2361961b-5e03-40ac-f5ed-c7d822277f63"
      },
      "execution_count": null,
      "outputs": [
        {
          "output_type": "stream",
          "name": "stdout",
          "text": [
            "Epoch: 600, Loss: 2.0142, Train: 77.97%, Valid: 70.42% Test: 70.04%\n"
          ]
        }
      ]
    },
    {
      "cell_type": "markdown",
      "source": [
        "GAT prend presque 3* plus de temps qu'un GCN"
      ],
      "metadata": {
        "id": "nYabKabVVv01"
      }
    },
    {
      "cell_type": "code",
      "source": [],
      "metadata": {
        "id": "GJDj-L6jUkne"
      },
      "execution_count": null,
      "outputs": []
    },
    {
      "cell_type": "markdown",
      "source": [
        "**Deux couches gcnconv:**\n",
        "\n",
        "Epoch: 600, Loss: 1.1446, Train: 66.45%, Valid: 67.06% Test: 66.18%\n",
        "\n",
        "**Deux couches GCNConv et une couche SAGECon:**\n",
        "\n",
        "Epoch: 600, Loss: 2.1405, Train: 77.68%, Valid: 70.57% Test: 70.00%\n",
        "\n",
        "**Trois couches SAGEConv:**\n",
        "\n",
        "Epoch: 600, Loss: 1.8539, Train: 85.66%, Valid: 67.60% Test: 67.07%\n",
        "\n",
        "**Deux couches GCNConv et une couche GATConv  avec des batch normalization:**\n",
        "\n",
        "Epoch: 600, Loss: 2.1405, Train: 73.61%, Valid: 71.26% Test: 70.25%\n",
        "\n",
        "**Trois couches de GAT avec des batchnorm1d:**\n",
        "\n",
        "Epoch: 600, Loss: 2.0142, Train: 77.97%, Valid: 70.42% Test: 70.04%"
      ],
      "metadata": {
        "id": "EV1YzBE9l-9z"
      }
    },
    {
      "cell_type": "code",
      "execution_count": null,
      "metadata": {
        "id": "JFeSIS53vaB_"
      },
      "outputs": [],
      "source": []
    },
    {
      "cell_type": "code",
      "execution_count": null,
      "metadata": {
        "id": "lUk0_161vaFN"
      },
      "outputs": [],
      "source": []
    },
    {
      "cell_type": "code",
      "execution_count": null,
      "metadata": {
        "id": "bN-IRZ2dah9O"
      },
      "outputs": [],
      "source": []
    },
    {
      "cell_type": "code",
      "execution_count": null,
      "metadata": {
        "id": "CrZmG8bpaiAs"
      },
      "outputs": [],
      "source": []
    }
  ],
  "metadata": {
    "accelerator": "GPU",
    "colab": {
      "collapsed_sections": [],
      "provenance": []
    },
    "kernelspec": {
      "display_name": "Python 3",
      "name": "python3"
    },
    "language_info": {
      "name": "python"
    }
  },
  "nbformat": 4,
  "nbformat_minor": 0
}